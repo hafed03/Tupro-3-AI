{
  "nbformat": 4,
  "nbformat_minor": 0,
  "metadata": {
    "colab": {
      "name": "IF4203_1301184200.ipynb",
      "provenance": []
    },
    "kernelspec": {
      "name": "python3",
      "display_name": "Python 3"
    }
  },
  "cells": [
    {
      "cell_type": "code",
      "metadata": {
        "id": "2_gkBdcyQILF"
      },
      "source": [
        "import pandas as pd\n",
        "import random\n",
        "from pandas import DataFrame"
      ],
      "execution_count": 3,
      "outputs": []
    },
    {
      "cell_type": "code",
      "metadata": {
        "id": "6kZV1sO8pMw_"
      },
      "source": [
        "from google.colab import files"
      ],
      "execution_count": 4,
      "outputs": []
    },
    {
      "cell_type": "code",
      "metadata": {
        "id": "tfwIUTMX7jtf",
        "outputId": "ac7834bf-8adb-4088-e99e-01e15e2e44db",
        "colab": {
          "base_uri": "https://localhost:8080/"
        }
      },
      "source": [
        "from google.colab import drive\n",
        "drive.mount('/content/drive')"
      ],
      "execution_count": 5,
      "outputs": [
        {
          "output_type": "stream",
          "text": [
            "Mounted at /content/drive\n"
          ],
          "name": "stdout"
        }
      ]
    },
    {
      "cell_type": "code",
      "metadata": {
        "id": "Kl5fICXQ8Dfh"
      },
      "source": [
        "rf = pd.read_excel('/content/drive/My Drive/materi kuliah dan tugas /Semester5/Mahasiswa.xls')\n"
      ],
      "execution_count": 6,
      "outputs": []
    },
    {
      "cell_type": "code",
      "metadata": {
        "id": "dCsXSVSQ8izx"
      },
      "source": [
        "def Cashinhigh(x):\n",
        "  if x > 13 : \n",
        "    return 1\n",
        "  elif x < 10 :\n",
        "    return 0 \n",
        "  elif x >= 10 and x <= 13 :\n",
        "    return (x - 10)/(13-10)   "
      ],
      "execution_count": 7,
      "outputs": []
    },
    {
      "cell_type": "code",
      "metadata": {
        "id": "jll6NimU_8yG"
      },
      "source": [
        "def Cashinlow(x):\n",
        "  if x < 7 :\n",
        "    return 1\n",
        "  elif x > 9 :\n",
        "    return 0 \n",
        "  elif x >= 7 and x <= 9 :\n",
        "    return (9-x)/(9-7)       "
      ],
      "execution_count": 8,
      "outputs": []
    },
    {
      "cell_type": "code",
      "metadata": {
        "id": "YXaN_OlZBnNc"
      },
      "source": [
        "def Cashinavg(x):\n",
        "  if x < 6 and x > 14 :\n",
        "    return 0 \n",
        "  elif x >= 6 and x <= 8 :\n",
        "    return (x-6)/(8-6)\n",
        "  elif x > 8  and x <= 12 :\n",
        "    return 1\n",
        "  elif x > 12 and x <= 14 :\n",
        "    return (14-x)/(14-12)  \n"
      ],
      "execution_count": 9,
      "outputs": []
    },
    {
      "cell_type": "code",
      "metadata": {
        "id": "E4rIylqcEe_H"
      },
      "source": [
        "def Cashouthigh(x):\n",
        "  if x > 10 :\n",
        "    return 1\n",
        "  elif x < 7 :\n",
        "    return 0 \n",
        "  elif x >= 7 and x <= 10 :\n",
        "    return (x-7)/(10-7)    "
      ],
      "execution_count": 10,
      "outputs": []
    },
    {
      "cell_type": "code",
      "metadata": {
        "id": "re_tZ4BWFj-w"
      },
      "source": [
        "def Cashoutlow(x):\n",
        "  if x < 6 :\n",
        "    return 1\n",
        "  elif x > 8 :\n",
        "    return 0 \n",
        "  elif x >= 8 and x <= 6 :\n",
        "    return (8-x)/(8-6)    "
      ],
      "execution_count": 11,
      "outputs": []
    },
    {
      "cell_type": "code",
      "metadata": {
        "id": "cERAb589GcxL"
      },
      "source": [
        "def Cashoutavg(x):\n",
        "  if x < 5 and x > 12 :\n",
        "    return 0\n",
        "  elif  x >= 5 and x <= 7 :\n",
        "    return (x-5)/(7-5)\n",
        "  elif x > 7 and x <= 11 :\n",
        "    return 1\n",
        "  elif x > 11 and x < 13 :\n",
        "    return (11-x)/(13-11)      "
      ],
      "execution_count": 12,
      "outputs": []
    },
    {
      "cell_type": "code",
      "metadata": {
        "id": "UdnqM2BEdaaN"
      },
      "source": [
        "def Fuzzifikasi(x,y):\n",
        "  arrlist = []\n",
        "  arrlist.append({ \"cashinhigh\" : Cashinhigh(x),\"cashinavg\" : Cashinavg(x),\"cashinlow\" : Cashinlow(x) } )\n",
        "  arrlist.append({ \"cashouthigh\" : Cashouthigh(y),\"cashoutavg\" : Cashoutavg(y),\"cashoutlow\" : Cashoutlow(y) })\n",
        "  return arrlist\n",
        "  "
      ],
      "execution_count": 13,
      "outputs": []
    },
    {
      "cell_type": "code",
      "metadata": {
        "id": "33bx7ttVBjds",
        "outputId": "cea9a1f8-fa7c-40fe-f8ed-79b102f8a159",
        "colab": {
          "base_uri": "https://localhost:8080/"
        }
      },
      "source": [
        "print(rf['Penghasilan'][3],rf['Pengeluaran'][3])\n",
        "\n",
        "a = Fuzzifikasi(rf['Penghasilan'][3],rf['Pengeluaran'][3])\n",
        "print(a[0])\n",
        "print(a[1])\n",
        "a[1][\"cashouthigh\"]\n",
        "a[0][\"cashinhigh\"]"
      ],
      "execution_count": 14,
      "outputs": [
        {
          "output_type": "stream",
          "text": [
            "8.23 9.25\n",
            "{'cashinhigh': 0, 'cashinavg': 1, 'cashinlow': 0.3849999999999998}\n",
            "{'cashouthigh': 0.75, 'cashoutavg': 1, 'cashoutlow': 0}\n"
          ],
          "name": "stdout"
        },
        {
          "output_type": "execute_result",
          "data": {
            "text/plain": [
              "0"
            ]
          },
          "metadata": {
            "tags": []
          },
          "execution_count": 14
        }
      ]
    },
    {
      "cell_type": "code",
      "metadata": {
        "id": "6Rvcls8CR5oN"
      },
      "source": [
        "def Inferensi(a):\n",
        "  list_nilai = []\n",
        "  #cari max dan min dari output atas \n",
        "  if a[0][\"cashinlow\"] and a[1][\"cashoutlow\"]:\n",
        "    list_nilai.append([\"acc\",min(a[0][\"cashinlow\"],a[1][\"cashoutlow\"])])\n",
        "  if a[0][\"cashinlow\"] and a[1][\"cashoutavg\"]:\n",
        "    list_nilai.append([\"acc\",min(a[0][\"cashinlow\"],a[1][\"cashoutavg\"])])\n",
        "  if a[0][\"cashinlow\"] and a[1][\"cashouthigh\"]:\n",
        "    list_nilai.append([\"acc\",min(a[0][\"cashinlow\"],a[1][\"cashouthigh\"])])\n",
        "  if a[0][\"cashinavg\"] and a[1][\"cashoutlow\"]:\n",
        "    list_nilai.append([\"tolak\",min(a[0][\"cashinavg\"],a[1][\"cashoutlow\"])])\n",
        "  if a[0][\"cashinavg\"] and a[1][\"cashoutavg\"]:\n",
        "    list_nilai.append([\"tolak\",min(a[0][\"cashinavg\"],a[1][\"cashoutavg\"])])\n",
        "  if a[0][\"cashinavg\"] and a[1][\"cashouthigh\"]:\n",
        "    list_nilai.append([\"acc\",min(a[0][\"cashinavg\"],a[1][\"cashouthigh\"])])\n",
        "  if a[0][\"cashinhigh\"] and a[1][\"cashoutlow\"]:\n",
        "    list_nilai.append([\"tolak\",min(a[0][\"cashinhigh\"],a[1][\"cashoutlow\"])])\n",
        "  if a[0][\"cashinhigh\"] and a[1][\"cashoutavg\"]:\n",
        "    list_nilai.append([\"tolak\",min(a[0][\"cashinhigh\"],a[1][\"cashoutavg\"])])\n",
        "  if a[0][\"cashinhigh\"] and a[1][\"cashouthigh\"]:\n",
        "    list_nilai.append([\"acc\",min(a[0][\"cashinhigh\"],a[1][\"cashouthigh\"])])             \n",
        "\n",
        "  \n",
        "  Maxacc = -2\n",
        "  Maxt = -2\n",
        "  for i in range(len(list_nilai)):\n",
        "    if list_nilai[i][0] == 'acc' and list_nilai[i][1] > Maxacc :\n",
        "      Maxacc = list_nilai[i][1]\n",
        "    if list_nilai[i][0] == 'tolak' and list_nilai[i][1] > Maxt :\n",
        "      Maxt = list_nilai[i][1] \n",
        "     \n",
        "\n",
        "  list_nilai2 = []\n",
        "  for i in range(len(list_nilai)):\n",
        "    if list_nilai[i][0] == 'acc' and list_nilai[i][1] == Maxacc :\n",
        "      list_nilai2.append(list_nilai[i])\n",
        "    if list_nilai[i][0] == 'tolak' and list_nilai[i][1] == Maxt :\n",
        "      list_nilai2.append(list_nilai[i]) \n",
        "  return list_nilai2   \n",
        "\n",
        "\n"
      ],
      "execution_count": 15,
      "outputs": []
    },
    {
      "cell_type": "code",
      "metadata": {
        "id": "SV8jsLLaUeIk"
      },
      "source": [
        "def Acc(x):\n",
        "  if x > 80 :\n",
        "    return 1\n",
        "  elif x < 60 :\n",
        "    return 0 \n",
        "  elif x >= 60 and x <= 80 :\n",
        "    return (x-60)/(80-60)      "
      ],
      "execution_count": 16,
      "outputs": []
    },
    {
      "cell_type": "code",
      "metadata": {
        "id": "RkwhUhQZYAow"
      },
      "source": [
        "def Tolak(x):\n",
        "  if x < 50 :\n",
        "    return 1\n",
        "  elif x > 60 :\n",
        "    return 0 \n",
        "  elif x >= 50 and x <= 60 :\n",
        "    return (60-x)/(60-50)   "
      ],
      "execution_count": 17,
      "outputs": []
    },
    {
      "cell_type": "code",
      "metadata": {
        "id": "W9_xtcsFT9D5"
      },
      "source": [
        "def Defuzzifikasi(a):\n",
        "  tolak = -1.0\n",
        "  acc = -1.0\n",
        "  list_random = []\n",
        "  list_acc = []\n",
        "  list_tolak = []\n",
        "  Max = [] \n",
        "  hasil_kali = []\n",
        "  for i in range(len(a)):\n",
        "    if a[i][0] == \"acc\":\n",
        "      acc = a[i][1]\n",
        "    else :\n",
        "      tolak = a[i][1]  \n",
        "  for i in range(10):\n",
        "    list_random.append(random.randint(1,100))  \n",
        "  for i in range(len(list_random)):\n",
        "    if acc > Acc(list_random[i]):\n",
        "      list_acc.append(acc)\n",
        "    else :\n",
        "      list_acc.append(Acc(list_random[i]))\n",
        "    if tolak > Tolak(list_random[i]):\n",
        "      list_tolak.append(tolak)\n",
        "    else:\n",
        "      list_tolak.append(Tolak(list_random[i]))\n",
        "  for i in range(len(list_random)):\n",
        "    if list_acc[i] > list_tolak[i]:\n",
        "      Max.append(list_acc[i])\n",
        "    else :\n",
        "      Max.append(list_tolak[i])  \n",
        "  for i in range(len(Max)):\n",
        "    hasil_kali.append(list_random[i] * Max[i])\n",
        "  return sum(hasil_kali)/sum(Max)  \n",
        "    "
      ],
      "execution_count": 18,
      "outputs": []
    },
    {
      "cell_type": "code",
      "metadata": {
        "id": "opzM55q7Uc6D",
        "outputId": "0a485b20-98b6-4aa3-8fa3-c6b426579a2b",
        "colab": {
          "base_uri": "https://localhost:8080/",
          "height": 17
        }
      },
      "source": [
        " #------Main Program-------#\n",
        "c = []\n",
        "temp = []\n",
        "for i in range(len(rf)):\n",
        "  x = rf[\"Penghasilan\"][i]\n",
        "  y = rf[\"Pengeluaran\"][i]\n",
        "  a = Fuzzifikasi(x,y)\n",
        "  b = Inferensi(a)\n",
        "  d = Defuzzifikasi(b)\n",
        "  c.append(d)\n",
        "  temp.append(d)\n",
        "\n",
        "urutan = []\n",
        "temp.sort()\n",
        "k = temp[79:99]\n",
        "for i in range(len(k)):\n",
        "  j = 0\n",
        "  while j != len(c):\n",
        "    if c[j] == k[i]:\n",
        "        urutan.append(j+1)\n",
        "    j +=1   \n",
        "urutan = list(dict.fromkeys(urutan))\n",
        "df = DataFrame(urutan,columns=[\"ID\"])\n",
        "df.to_excel(\"Bantuan.xls\", index=False, header=True)\n",
        "files.download('Bantuan.xls')"
      ],
      "execution_count": 43,
      "outputs": [
        {
          "output_type": "display_data",
          "data": {
            "application/javascript": [
              "\n",
              "    async function download(id, filename, size) {\n",
              "      if (!google.colab.kernel.accessAllowed) {\n",
              "        return;\n",
              "      }\n",
              "      const div = document.createElement('div');\n",
              "      const label = document.createElement('label');\n",
              "      label.textContent = `Downloading \"${filename}\": `;\n",
              "      div.appendChild(label);\n",
              "      const progress = document.createElement('progress');\n",
              "      progress.max = size;\n",
              "      div.appendChild(progress);\n",
              "      document.body.appendChild(div);\n",
              "\n",
              "      const buffers = [];\n",
              "      let downloaded = 0;\n",
              "\n",
              "      const channel = await google.colab.kernel.comms.open(id);\n",
              "      // Send a message to notify the kernel that we're ready.\n",
              "      channel.send({})\n",
              "\n",
              "      for await (const message of channel.messages) {\n",
              "        // Send a message to notify the kernel that we're ready.\n",
              "        channel.send({})\n",
              "        if (message.buffers) {\n",
              "          for (const buffer of message.buffers) {\n",
              "            buffers.push(buffer);\n",
              "            downloaded += buffer.byteLength;\n",
              "            progress.value = downloaded;\n",
              "          }\n",
              "        }\n",
              "      }\n",
              "      const blob = new Blob(buffers, {type: 'application/binary'});\n",
              "      const a = document.createElement('a');\n",
              "      a.href = window.URL.createObjectURL(blob);\n",
              "      a.download = filename;\n",
              "      div.appendChild(a);\n",
              "      a.click();\n",
              "      div.remove();\n",
              "    }\n",
              "  "
            ],
            "text/plain": [
              "<IPython.core.display.Javascript object>"
            ]
          },
          "metadata": {
            "tags": []
          }
        },
        {
          "output_type": "display_data",
          "data": {
            "application/javascript": [
              "download(\"download_f9b642af-2ea0-4dfd-b207-0421913c2ad6\", \"Bantuan.xls\", 5632)"
            ],
            "text/plain": [
              "<IPython.core.display.Javascript object>"
            ]
          },
          "metadata": {
            "tags": []
          }
        }
      ]
    }
  ]
}